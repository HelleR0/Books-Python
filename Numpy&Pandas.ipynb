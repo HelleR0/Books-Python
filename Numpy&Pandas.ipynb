{
  "nbformat": 4,
  "nbformat_minor": 0,
  "metadata": {
    "colab": {
      "provenance": [],
      "authorship_tag": "ABX9TyM88pGxtUo3uKiJ0wc3f3gN",
      "include_colab_link": true
    },
    "kernelspec": {
      "name": "python3",
      "display_name": "Python 3"
    },
    "language_info": {
      "name": "python"
    }
  },
  "cells": [
    {
      "cell_type": "markdown",
      "metadata": {
        "id": "view-in-github",
        "colab_type": "text"
      },
      "source": [
        "<a href=\"https://colab.research.google.com/github/HelleR0/Books-Python/blob/main/Numpy%26Pandas.ipynb\" target=\"_parent\"><img src=\"https://colab.research.google.com/assets/colab-badge.svg\" alt=\"Open In Colab\"/></a>"
      ]
    },
    {
      "cell_type": "code",
      "execution_count": null,
      "metadata": {
        "id": "tRS7Y8xTHhR3"
      },
      "outputs": [],
      "source": [
        "import pandas as pd\n",
        "import numpy as np"
      ]
    },
    {
      "cell_type": "code",
      "source": [
        "labels=['w','x','y','z']\n",
        "sample_list=[100,200,300,400]\n",
        "array=np.array([1,2,3,4])\n",
        "dict={'w':10,'x':20,'y':30,'z':40}"
      ],
      "metadata": {
        "id": "4HiUZEimHnHf"
      },
      "execution_count": null,
      "outputs": []
    },
    {
      "cell_type": "code",
      "source": [
        "pd.Series(data=sample_list)"
      ],
      "metadata": {
        "colab": {
          "base_uri": "https://localhost:8080/"
        },
        "id": "gKK9Qc40IazJ",
        "outputId": "b18e1e6a-35fa-484f-ce27-2720cc1dfb97"
      },
      "execution_count": null,
      "outputs": [
        {
          "output_type": "execute_result",
          "data": {
            "text/plain": [
              "0    100\n",
              "1    200\n",
              "2    300\n",
              "3    400\n",
              "dtype: int64"
            ]
          },
          "metadata": {},
          "execution_count": 24
        }
      ]
    },
    {
      "cell_type": "code",
      "source": [
        "pd.Series(data=sample_list,index=labels)"
      ],
      "metadata": {
        "colab": {
          "base_uri": "https://localhost:8080/"
        },
        "id": "IIX6pNFzIbNH",
        "outputId": "533ba145-0944-4e28-f02a-06c076fca36d"
      },
      "execution_count": null,
      "outputs": [
        {
          "output_type": "execute_result",
          "data": {
            "text/plain": [
              "w    100\n",
              "x    200\n",
              "y    300\n",
              "z    400\n",
              "dtype: int64"
            ]
          },
          "metadata": {},
          "execution_count": 25
        }
      ]
    },
    {
      "cell_type": "code",
      "source": [
        "pd.Series(sample_list,array)"
      ],
      "metadata": {
        "colab": {
          "base_uri": "https://localhost:8080/"
        },
        "id": "5gVelvMJIbT2",
        "outputId": "592e311e-4be2-4e6f-c420-5ab4e50017d4"
      },
      "execution_count": null,
      "outputs": [
        {
          "output_type": "execute_result",
          "data": {
            "text/plain": [
              "1    100\n",
              "2    200\n",
              "3    300\n",
              "4    400\n",
              "dtype: int64"
            ]
          },
          "metadata": {},
          "execution_count": 26
        }
      ]
    },
    {
      "cell_type": "code",
      "source": [
        "pd.Series(dict)"
      ],
      "metadata": {
        "colab": {
          "base_uri": "https://localhost:8080/"
        },
        "id": "aZxB6Kt-Ibbu",
        "outputId": "8a9b70f3-b04a-428d-b819-c58890ceb1a8"
      },
      "execution_count": null,
      "outputs": [
        {
          "output_type": "execute_result",
          "data": {
            "text/plain": [
              "w    10\n",
              "x    20\n",
              "y    30\n",
              "z    40\n",
              "dtype: int64"
            ]
          },
          "metadata": {},
          "execution_count": 27
        }
      ]
    },
    {
      "cell_type": "code",
      "source": [
        "sports1=pd.Series([1,2,2,4],index=['Cricket','Football','Baseball','Golf'])\n",
        "sports1"
      ],
      "metadata": {
        "colab": {
          "base_uri": "https://localhost:8080/"
        },
        "id": "ZSrQXBORN6Vc",
        "outputId": "75721d7a-ce47-43d2-cb1d-4570c3a5efb7"
      },
      "execution_count": null,
      "outputs": [
        {
          "output_type": "execute_result",
          "data": {
            "text/plain": [
              "Cricket     1\n",
              "Football    2\n",
              "Baseball    2\n",
              "Golf        4\n",
              "dtype: int64"
            ]
          },
          "metadata": {},
          "execution_count": 28
        }
      ]
    },
    {
      "cell_type": "code",
      "source": [
        "sports1['Cricket']"
      ],
      "metadata": {
        "colab": {
          "base_uri": "https://localhost:8080/"
        },
        "id": "j3mpD7-AOMk-",
        "outputId": "658b5211-1b9b-465a-a93c-55509c2a84aa"
      },
      "execution_count": null,
      "outputs": [
        {
          "output_type": "execute_result",
          "data": {
            "text/plain": [
              "1"
            ]
          },
          "metadata": {},
          "execution_count": 29
        }
      ]
    },
    {
      "cell_type": "code",
      "source": [
        "sports2=pd.Series([11,2,3,4],index=['Cricket','Football','Baseball','Golf'])\n",
        "sports2"
      ],
      "metadata": {
        "id": "bz9cUOzFIcXz"
      },
      "execution_count": null,
      "outputs": []
    },
    {
      "cell_type": "code",
      "source": [
        "sports1+sports2"
      ],
      "metadata": {
        "id": "T2LHJiZxIcgm"
      },
      "execution_count": null,
      "outputs": []
    },
    {
      "cell_type": "code",
      "source": [
        "df1=pd.DataFrame(np.random.rand(8,5),index='A B C D E F G H'.split(),columns='Score1 Score2 Score3 Score4 Score5'.split())\n",
        "df1"
      ],
      "metadata": {
        "id": "TncXGYXnIcl1"
      },
      "execution_count": null,
      "outputs": []
    },
    {
      "cell_type": "code",
      "source": [
        "df1[\"score3\"]"
      ],
      "metadata": {
        "id": "J8VOyBbmIcqS"
      },
      "execution_count": null,
      "outputs": []
    },
    {
      "cell_type": "code",
      "source": [
        "df1[['Score1','Score2','Score3']]"
      ],
      "metadata": {
        "id": "l9WjEB67J_pr"
      },
      "execution_count": null,
      "outputs": []
    },
    {
      "cell_type": "code",
      "source": [
        "df1['Score1']=df1['Score2']+df1['score3']"
      ],
      "metadata": {
        "id": "X1jTZ9GWJ_sZ"
      },
      "execution_count": null,
      "outputs": []
    },
    {
      "cell_type": "code",
      "source": [
        "df1['Score6']=df1['Score1']+df1['Score2']\n",
        "df1"
      ],
      "metadata": {
        "id": "EREPMx0QJ_vS"
      },
      "execution_count": null,
      "outputs": []
    },
    {
      "cell_type": "code",
      "source": [
        "df2={'ID':['101','102','103','107','176'],'Name':['John','Mickey','Akash','Kavin','Lally'],'Profit':[20,54,56,87,123]}\n",
        "df=pd.DataFrame(df2)\n",
        "df"
      ],
      "metadata": {
        "id": "949ezbMiJ_yD"
      },
      "execution_count": null,
      "outputs": []
    },
    {
      "cell_type": "code",
      "source": [
        "df['ID']"
      ],
      "metadata": {
        "id": "qKFKd2GMJ_0l"
      },
      "execution_count": null,
      "outputs": []
    },
    {
      "cell_type": "code",
      "source": [
        "df[['ID','NAME']]"
      ],
      "metadata": {
        "id": "SoaLb6lVJ_3G"
      },
      "execution_count": null,
      "outputs": []
    },
    {
      "cell_type": "code",
      "source": [
        "df=df.drop('ID',axis=1)"
      ],
      "metadata": {
        "id": "5dcc4vpAJ_5u"
      },
      "execution_count": null,
      "outputs": []
    },
    {
      "cell_type": "code",
      "source": [
        "df"
      ],
      "metadata": {
        "id": "9Ry06rgEJ_8Y"
      },
      "execution_count": null,
      "outputs": []
    },
    {
      "cell_type": "code",
      "source": [
        "df=df.drop(3)"
      ],
      "metadata": {
        "id": "VYnM1z_dJ_--"
      },
      "execution_count": null,
      "outputs": []
    },
    {
      "cell_type": "code",
      "source": [
        "df=df.drop(2,axis=0)"
      ],
      "metadata": {
        "id": "-wVj4kQfKABl"
      },
      "execution_count": null,
      "outputs": []
    }
  ]
}