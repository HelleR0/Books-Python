{
  "nbformat": 4,
  "nbformat_minor": 0,
  "metadata": {
    "colab": {
      "provenance": [],
      "authorship_tag": "ABX9TyOkuRgcNi1PpYZGMv8k4jM0",
      "include_colab_link": true
    },
    "kernelspec": {
      "name": "python3",
      "display_name": "Python 3"
    },
    "language_info": {
      "name": "python"
    }
  },
  "cells": [
    {
      "cell_type": "markdown",
      "metadata": {
        "id": "view-in-github",
        "colab_type": "text"
      },
      "source": [
        "<a href=\"https://colab.research.google.com/github/HelleR0/Books-Python/blob/main/numbPy.ipynb\" target=\"_parent\"><img src=\"https://colab.research.google.com/assets/colab-badge.svg\" alt=\"Open In Colab\"/></a>"
      ]
    },
    {
      "cell_type": "code",
      "source": [
        "import numpy as np"
      ],
      "metadata": {
        "id": "A6634GawrXy1"
      },
      "execution_count": 3,
      "outputs": []
    },
    {
      "cell_type": "code",
      "execution_count": 4,
      "metadata": {
        "colab": {
          "base_uri": "https://localhost:8080/"
        },
        "id": "VxmCfeRtGbsg",
        "outputId": "cf79e456-eab6-40a5-cb0d-c3dec02a7249"
      },
      "outputs": [
        {
          "output_type": "execute_result",
          "data": {
            "text/plain": [
              "array([1, 2, 3, 4, 5, 6])"
            ]
          },
          "metadata": {},
          "execution_count": 4
        }
      ],
      "source": [
        "arr=np.array([1,2,3,4,5,6])\n",
        "arr"
      ]
    },
    {
      "cell_type": "code",
      "source": [
        "list=[[1,2,3],[4,5,6],[7,8,9]]\n",
        "matrix=np.array(list)"
      ],
      "metadata": {
        "id": "Zx9xCcdnrjC_"
      },
      "execution_count": 15,
      "outputs": []
    },
    {
      "cell_type": "code",
      "source": [
        "np.arange(1,15)"
      ],
      "metadata": {
        "id": "e4nKlnlmr-YO"
      },
      "execution_count": null,
      "outputs": []
    },
    {
      "cell_type": "code",
      "source": [
        "np.arange(18)"
      ],
      "metadata": {
        "id": "OQfHLu4AsT_g"
      },
      "execution_count": null,
      "outputs": []
    },
    {
      "cell_type": "code",
      "source": [
        "np.arange(1,46,5)"
      ],
      "metadata": {
        "id": "vcHWIaPtsYsU"
      },
      "execution_count": null,
      "outputs": []
    },
    {
      "cell_type": "code",
      "source": [
        "np.zeros(5)"
      ],
      "metadata": {
        "id": "JU3zQ8LYsUCD"
      },
      "execution_count": 15,
      "outputs": []
    },
    {
      "cell_type": "code",
      "source": [
        "np.zeros(5,int)"
      ],
      "metadata": {
        "id": "DJBFdOrisUEm"
      },
      "execution_count": null,
      "outputs": []
    },
    {
      "cell_type": "code",
      "source": [
        "np.zeros(2,5)"
      ],
      "metadata": {
        "id": "bWyOAgYMsUHL"
      },
      "execution_count": null,
      "outputs": []
    },
    {
      "cell_type": "code",
      "source": [
        "np.ones(10)"
      ],
      "metadata": {
        "colab": {
          "base_uri": "https://localhost:8080/"
        },
        "id": "_lTkEBlWsUKm",
        "outputId": "b345ee11-74ef-4c94-8165-a4607f3262e8"
      },
      "execution_count": 20,
      "outputs": [
        {
          "output_type": "execute_result",
          "data": {
            "text/plain": [
              "array([1., 1., 1., 1., 1., 1., 1., 1., 1., 1.])"
            ]
          },
          "metadata": {},
          "execution_count": 20
        }
      ]
    },
    {
      "cell_type": "code",
      "source": [
        "np.ones(10,int)"
      ],
      "metadata": {
        "id": "6JeCz8eRtFSt"
      },
      "execution_count": null,
      "outputs": []
    },
    {
      "cell_type": "code",
      "source": [
        "np.zeros((2,10),int)"
      ],
      "metadata": {
        "id": "8wIoYpsPtFVX"
      },
      "execution_count": null,
      "outputs": []
    },
    {
      "cell_type": "code",
      "source": [
        "np.ones((5,5),int)"
      ],
      "metadata": {
        "id": "j5j1OEgVtFXw"
      },
      "execution_count": null,
      "outputs": []
    },
    {
      "cell_type": "code",
      "source": [
        "np.arange(1,64,5)"
      ],
      "metadata": {
        "id": "pdXmC-jBv6re"
      },
      "execution_count": null,
      "outputs": []
    },
    {
      "cell_type": "code",
      "source": [
        "np.linspace(0,1,5)"
      ],
      "metadata": {
        "id": "3Kn4b3XRtFaZ"
      },
      "execution_count": null,
      "outputs": []
    },
    {
      "cell_type": "code",
      "source": [
        "np.linspace(0,20,8)"
      ],
      "metadata": {
        "id": "R0SFHVGntFcw"
      },
      "execution_count": null,
      "outputs": []
    },
    {
      "cell_type": "code",
      "source": [
        "np.eye(3)"
      ],
      "metadata": {
        "id": "uQZBl83qtFfP"
      },
      "execution_count": null,
      "outputs": []
    },
    {
      "cell_type": "code",
      "source": [
        "np.random.rand(4,7)"
      ],
      "metadata": {
        "id": "wQc84OwItFiv"
      },
      "execution_count": null,
      "outputs": []
    },
    {
      "cell_type": "code",
      "source": [
        "np.random.randn(4,7)"
      ],
      "metadata": {
        "id": "9CxXvDKbypdB"
      },
      "execution_count": null,
      "outputs": []
    },
    {
      "cell_type": "code",
      "source": [
        "np.random.randint(4,7)"
      ],
      "metadata": {
        "colab": {
          "base_uri": "https://localhost:8080/"
        },
        "id": "AMMKRD9uyxMs",
        "outputId": "db18863b-f5cb-4dd7-b49e-af0b20033678"
      },
      "execution_count": 35,
      "outputs": [
        {
          "output_type": "execute_result",
          "data": {
            "text/plain": [
              "5"
            ]
          },
          "metadata": {},
          "execution_count": 35
        }
      ]
    },
    {
      "cell_type": "code",
      "source": [
        "sample_array=np.arange(50)\n",
        "sample_array"
      ],
      "metadata": {
        "id": "jukwCfj2yxYe"
      },
      "execution_count": null,
      "outputs": []
    },
    {
      "cell_type": "code",
      "source": [
        "rand_array=np.random.randint(0,100,20)\n",
        "rand_array"
      ],
      "metadata": {
        "id": "x7q7MlAiyxbV"
      },
      "execution_count": 39,
      "outputs": []
    },
    {
      "cell_type": "code",
      "source": [
        "sample_array.reshape(2,25)"
      ],
      "metadata": {
        "id": "HgfQs2HtyxeU"
      },
      "execution_count": null,
      "outputs": []
    },
    {
      "cell_type": "code",
      "source": [
        "rand_array.min()"
      ],
      "metadata": {
        "id": "Quw9syxwyxgy"
      },
      "execution_count": 39,
      "outputs": []
    },
    {
      "cell_type": "code",
      "source": [
        "rand_array.argmin()"
      ],
      "metadata": {
        "id": "fbOLT1gAyxji"
      },
      "execution_count": null,
      "outputs": []
    },
    {
      "cell_type": "code",
      "source": [
        "a=np.eye(5)\n",
        "a"
      ],
      "metadata": {
        "id": "FXoOZVOtyxmG"
      },
      "execution_count": null,
      "outputs": []
    },
    {
      "cell_type": "code",
      "source": [
        "a.T"
      ],
      "metadata": {
        "id": "s16LkOi_yxpk"
      },
      "execution_count": null,
      "outputs": []
    },
    {
      "cell_type": "code",
      "source": [
        "sample_array=np.arange(10,21)\n",
        "sample_array"
      ],
      "metadata": {
        "colab": {
          "base_uri": "https://localhost:8080/"
        },
        "id": "NZchcmQE0vgF",
        "outputId": "796ab0bc-e617-4199-cc12-70dab0ec32bd"
      },
      "execution_count": 55,
      "outputs": [
        {
          "output_type": "execute_result",
          "data": {
            "text/plain": [
              "array([10, 11, 12, 13, 14, 15, 16, 17, 18, 19, 20])"
            ]
          },
          "metadata": {},
          "execution_count": 55
        }
      ]
    },
    {
      "cell_type": "code",
      "source": [
        "sample_array[3]"
      ],
      "metadata": {
        "id": "JbsmlZ3o0vib"
      },
      "execution_count": null,
      "outputs": []
    },
    {
      "cell_type": "code",
      "source": [
        "sample_array[3:7]"
      ],
      "metadata": {
        "id": "OGL-s-8F0vk5"
      },
      "execution_count": null,
      "outputs": []
    },
    {
      "cell_type": "code",
      "source": [
        "sample_array[1:4]=100\n",
        "sample_array"
      ],
      "metadata": {
        "id": "Ar7cRT620voc"
      },
      "execution_count": null,
      "outputs": []
    },
    {
      "cell_type": "code",
      "source": [
        "sample_array[:]=100\n",
        "sample_array"
      ],
      "metadata": {
        "id": "IQpcnLMv1dc1"
      },
      "execution_count": null,
      "outputs": []
    },
    {
      "cell_type": "code",
      "source": [
        "sample_array=np.array([[50,20,1,23],[24,23,21,33],[56,76,24,7]])\n",
        "sample_array"
      ],
      "metadata": {
        "id": "rT8oKFz91dfa"
      },
      "execution_count": null,
      "outputs": []
    },
    {
      "cell_type": "code",
      "source": [
        "sample_array[0:2,2]"
      ],
      "metadata": {
        "id": "xjM7le091diQ"
      },
      "execution_count": null,
      "outputs": []
    },
    {
      "cell_type": "code",
      "source": [
        "sample_array[2,:]"
      ],
      "metadata": {
        "colab": {
          "base_uri": "https://localhost:8080/"
        },
        "id": "LdeP5GL31dlo",
        "outputId": "8542872d-35df-47cb-a408-311b63a6063d"
      },
      "execution_count": 59,
      "outputs": [
        {
          "output_type": "execute_result",
          "data": {
            "text/plain": [
              "array([56, 76, 24,  7])"
            ]
          },
          "metadata": {},
          "execution_count": 59
        }
      ]
    },
    {
      "cell_type": "code",
      "source": [
        "sample_array[:,(3,2)]"
      ],
      "metadata": {
        "id": "iQqtlOOw1du0"
      },
      "execution_count": null,
      "outputs": []
    },
    {
      "cell_type": "code",
      "source": [
        "sample_array=np.arange(1,20)\n",
        "sample_array"
      ],
      "metadata": {
        "id": "lH_gaRcp1dxo"
      },
      "execution_count": null,
      "outputs": []
    },
    {
      "cell_type": "code",
      "source": [
        "np.exp(sample_array)"
      ],
      "metadata": {
        "id": "99ujOzv51d0Q"
      },
      "execution_count": null,
      "outputs": []
    },
    {
      "cell_type": "code",
      "source": [
        "np.square(sample_array)"
      ],
      "metadata": {
        "id": "UWvEVR0E7QnX"
      },
      "execution_count": null,
      "outputs": []
    },
    {
      "cell_type": "code",
      "source": [
        "np.sqrt(sample_array)"
      ],
      "metadata": {
        "id": "U9R9lCDT6kWh"
      },
      "execution_count": null,
      "outputs": []
    },
    {
      "cell_type": "code",
      "source": [
        "np.log(sample_array)"
      ],
      "metadata": {
        "id": "epS5w34H1d56"
      },
      "execution_count": null,
      "outputs": []
    },
    {
      "cell_type": "code",
      "source": [
        "np.min(sample_array)"
      ],
      "metadata": {
        "id": "4qyYVQ636kZB"
      },
      "execution_count": null,
      "outputs": []
    },
    {
      "cell_type": "code",
      "source": [
        "np.max(sample_array)"
      ],
      "metadata": {
        "id": "0oSsTd237Is3"
      },
      "execution_count": null,
      "outputs": []
    },
    {
      "cell_type": "code",
      "source": [
        "np.argmax(sample_array)"
      ],
      "metadata": {
        "id": "u9OC6_aI6kbm"
      },
      "execution_count": null,
      "outputs": []
    },
    {
      "cell_type": "code",
      "source": [
        "np.std(sample_array)"
      ],
      "metadata": {
        "id": "31vy8Nrk6kfG"
      },
      "execution_count": null,
      "outputs": []
    },
    {
      "cell_type": "code",
      "source": [
        "np.var(sample_array)"
      ],
      "metadata": {
        "id": "mavgtGum1d24"
      },
      "execution_count": null,
      "outputs": []
    },
    {
      "cell_type": "code",
      "source": [
        "np.mean(sample_array)"
      ],
      "metadata": {
        "id": "-aSkeWbo7QIp"
      },
      "execution_count": null,
      "outputs": []
    },
    {
      "cell_type": "code",
      "source": [
        "sample_array=np.random.randn(3,4)\n",
        "sample_array"
      ],
      "metadata": {
        "id": "o3Gtgp837Qq6"
      },
      "execution_count": null,
      "outputs": []
    },
    {
      "cell_type": "code",
      "source": [
        "np.round(sample_array,decimals=3)"
      ],
      "metadata": {
        "id": "JYE8PX557QyW"
      },
      "execution_count": null,
      "outputs": []
    },
    {
      "cell_type": "code",
      "source": [
        "sports=np.array(['golf','cricket','football','cricket','baseball','golf','football'])\n",
        "np.unique(sports)"
      ],
      "metadata": {
        "id": "MzL9mdg38cWl"
      },
      "execution_count": null,
      "outputs": []
    }
  ]
}